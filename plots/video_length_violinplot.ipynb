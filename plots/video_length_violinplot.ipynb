{
 "cells": [
  {
   "cell_type": "code",
   "execution_count": null,
   "metadata": {},
   "outputs": [],
   "source": [
    "import os\n",
    "import sqlite3\n",
    "import pandas as pd\n",
    "import seaborn as sns\n",
    "import matplotlib.pyplot as plt\n",
    "\n",
    "connection = sqlite3.connect(os.getenv(\"SQLITE_DB_FILE\"))\n",
    "cursor = connection.cursor()\n",
    "\n",
    "query = \"\"\"\n",
    "SELECT activity.timestamp, video.title, video.length, channel.name AS channel_name, category.name AS category_name\n",
    "FROM activity\n",
    "JOIN video ON activity.video_id = video.id\n",
    "JOIN channel ON activity.channel_id = channel.id\n",
    "JOIN category ON channel.category_id = category.id\n",
    "\"\"\"\n",
    "\n",
    "df = pd.read_sql_query(query, connection)\n",
    "connection.close()\n",
    "\n",
    "# Create a list of categories to keep\n",
    "categories_to_keep = [\"Science and Technology\", \"AI and Programming\", \"Tech Review\"]\n",
    "\n",
    "# Create a copy of the df dataframe and select only the rows that match the specified categories\n",
    "df_new = df[df['category_name'].isin(categories_to_keep)].copy()\n",
    "\n",
    "# Convert video length from seconds to minutes\n",
    "df_new['length_min'] = df_new['length'] / 60\n",
    "\n",
    "plt.style.use('dark_background')\n",
    "\n",
    "fig, ax = plt.subplots(figsize=(12, 5))\n",
    "\n",
    "sns.violinplot(data=df_new, x='category_name', y='length_min', split=True, inner='stick')\n",
    "\n",
    "# Set x-axis limit to exclude videos longer than 150 minutes\n",
    "ax.set_ylim(0, 240)\n",
    "\n",
    "ax.set_xlabel('Video Category', fontsize=12)\n",
    "ax.set_ylabel('Video Length (minutes)', fontsize=12)\n",
    "ax.set_facecolor('black')\n",
    "plt.show()"
   ]
  }
 ],
 "metadata": {
  "kernelspec": {
   "display_name": "venv",
   "language": "python",
   "name": "python3"
  },
  "language_info": {
   "codemirror_mode": {
    "name": "ipython",
    "version": 3
   },
   "file_extension": ".py",
   "mimetype": "text/x-python",
   "name": "python",
   "nbconvert_exporter": "python",
   "pygments_lexer": "ipython3",
   "version": "3.11.3"
  },
  "orig_nbformat": 4
 },
 "nbformat": 4,
 "nbformat_minor": 2
}
