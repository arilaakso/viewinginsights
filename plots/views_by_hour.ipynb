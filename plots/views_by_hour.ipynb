{
 "cells": [
  {
   "cell_type": "code",
   "execution_count": null,
   "metadata": {},
   "outputs": [],
   "source": [
    "import os\n",
    "import sqlite3\n",
    "import pandas as pd\n",
    "import seaborn as sns\n",
    "import matplotlib.pyplot as plt\n",
    "import pytz\n",
    "\n",
    "connection = sqlite3.connect(os.getenv(\"SQLITE_DB_FILE\"))\n",
    "cursor = connection.cursor()\n",
    "\n",
    "query = \"\"\"\n",
    "SELECT activity.timestamp, video.title, video.length, channel.name AS channel_name, category.name AS category_name\n",
    "FROM activity\n",
    "JOIN video ON activity.video_id = video.id\n",
    "JOIN channel ON activity.channel_id = channel.id\n",
    "JOIN category ON channel.category_id = category.id\"\"\"\n",
    "\n",
    "df = pd.read_sql_query(query, connection)\n",
    "connection.close()\n",
    "\n",
    "# Convert the timestamp column to a datetime object\n",
    "df['timestamp'] = pd.to_datetime(df['timestamp'])\n",
    "\n",
    "# Convert UTC timestamp to Finnish local time\n",
    "utc_zone = pytz.timezone('UTC')\n",
    "finland_zone = pytz.timezone('Europe/Helsinki')\n",
    "df['timestamp'] = df['timestamp'].apply(lambda x: x.replace(tzinfo=utc_zone).astimezone(finland_zone))\n",
    "\n",
    "# Extract the hour from the timestamp\n",
    "df['hour'] = df['timestamp'].dt.hour\n",
    "\n",
    "plt.style.use('dark_background')\n",
    "# Create a count plot to visualize video views per hour\n",
    "plt.figure(figsize=(11, 4))\n",
    "sns.countplot(data=df, x='hour', color='#1E90FF')\n",
    "plt.title('Views by Hour of the Day (Finnish Local Time)')\n",
    "plt.xlabel('Hour of the Day')\n",
    "plt.ylabel('Number of Views')\n",
    "plt.show()"
   ]
  }
 ],
 "metadata": {
  "kernelspec": {
   "display_name": "venv",
   "language": "python",
   "name": "python3"
  },
  "language_info": {
   "codemirror_mode": {
    "name": "ipython",
    "version": 3
   },
   "file_extension": ".py",
   "mimetype": "text/x-python",
   "name": "python",
   "nbconvert_exporter": "python",
   "pygments_lexer": "ipython3",
   "version": "3.11.3"
  },
  "orig_nbformat": 4
 },
 "nbformat": 4,
 "nbformat_minor": 2
}
