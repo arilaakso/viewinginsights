{
 "cells": [
  {
   "cell_type": "code",
   "execution_count": null,
   "metadata": {},
   "outputs": [],
   "source": [
    "import os\n",
    "import sqlite3\n",
    "import pandas as pd\n",
    "import matplotlib.pyplot as plt\n",
    "\n",
    "connection = sqlite3.connect(os.getenv(\"SQLITE_DB_FILE\"))\n",
    "cursor = connection.cursor()\n",
    "\n",
    "query = \"\"\"\n",
    "SELECT activity.timestamp, video.title, video.length, channel.name AS channel_name, category.name AS category_name\n",
    "FROM activity\n",
    "JOIN video ON activity.video_id = video.id\n",
    "JOIN channel ON activity.channel_id = channel.id\n",
    "JOIN category ON channel.category_id = category.id\n",
    "\"\"\"\n",
    "\n",
    "df = pd.read_sql_query(query, connection)\n",
    "connection.close()\n",
    "\n",
    "channel_counts = df['channel_name'].value_counts()\n",
    "channel_counts = channel_counts.sort_values(ascending=False)[:17]\n",
    "\n",
    "channels = channel_counts.index.tolist()\n",
    "\n",
    "plt.style.use('dark_background')\n",
    "fig, ax = plt.subplots(figsize=(12, 6))\n",
    "ax.barh(channels, channel_counts.values, color='#1E90FF')\n",
    "ax.invert_yaxis()  # invert y-axis to show channels in descending order\n",
    "ax.tick_params(axis='both', labelsize=11, labelcolor='white')\n",
    "ax.set_title('Most Changed Channels', fontsize=13, color='white')\n",
    "ax.set_xlabel('Number of Videos', fontsize=12, color='white')\n",
    "ax.set_ylabel('Channel', fontsize=10, color='white')\n",
    "\n",
    "ax.spines['right'].set_visible(False)  # remove right spine\n",
    "ax.spines['top'].set_visible(False)  # remove top spine\n",
    "ax.spines['bottom'].set_color('white')  # set bottom spine color to white\n",
    "ax.spines['left'].set_color('white')  # set left spine color to white\n",
    "\n",
    "plt.grid(axis='x', alpha=0.3) \n",
    "plt.show()\n"
   ]
  }
 ],
 "metadata": {
  "kernelspec": {
   "display_name": "venv",
   "language": "python",
   "name": "python3"
  },
  "language_info": {
   "codemirror_mode": {
    "name": "ipython",
    "version": 3
   },
   "file_extension": ".py",
   "mimetype": "text/x-python",
   "name": "python",
   "nbconvert_exporter": "python",
   "pygments_lexer": "ipython3",
   "version": "3.11.3"
  },
  "orig_nbformat": 4
 },
 "nbformat": 4,
 "nbformat_minor": 2
}
